{
 "cells": [
  {
   "cell_type": "markdown",
   "metadata": {},
   "source": [
    "<small><small><i>\n",
    "All the IPython Notebooks in this **Python Decision Tree and Random Forest** series by Dr. Milaan Parmar are available @ **[GitHub](https://github.com/milaan9/90_Python_Examples)**\n",
    "</i></small></small>"
   ]
  },
  {
   "cell_type": "markdown",
   "metadata": {},
   "source": [
    "# Decision Tree\n",
    "\n",
    "A Decision Tree is one of the popular and powerful machine learning algorithms that I have learned. It is a non-parametric supervised learning method that can be used for both classification and regression tasks. The goal is to create a model that predicts the value of a target variable by learning simple decision rules inferred from the data features. For a classification model, the target values are discrete in nature, whereas, for a regression model, the target values are represented by continuous values. Unlike the black box type of algorithms such as Neural Network, Decision Trees are comparably easier to understand because it shares internal decision-making logic (you will find details in the following session).\n",
    "\n",
    "Despite the fact that many data scientists believe it’s an old method and they may have some doubts of its accuracy due to an overfitting problem, the more recent tree-based models, for example, Random forest (bagging method), gradient boosting (boosting method) and XGBoost (boosting method) are built on the top of decision tree algorithm. Therefore, the concepts and algorithms behind Decision Trees are strongly worth understanding!"
   ]
  },
  {
   "cell_type": "markdown",
   "metadata": {},
   "source": [
    "There are *four* popular types of decision tree algorithms: \n",
    "\n",
    "1. **ID3**\n",
    "2. **CART (Classification And Regression Trees)**\n",
    "3. **Chi-Square**\n",
    "4. **Reduction in Variance**\n",
    "\n",
    "In this class, we'll focus only on the classification trees and the explanations of **ID3** and **CART (Classification And Regression Trees)**."
   ]
  },
  {
   "cell_type": "markdown",
   "metadata": {},
   "source": [
    "**Example:**\n",
    "\n",
    ">You play golf every Sunday and you invite your best friend, Arthur to come with you every time. Arthur sometimes comes to join but sometimes not. For him, it depends on a number of factors for example, **Weather**, **Temperature**, **Humidity** and **Wind**. We'll use the dataset of last two week to predict whether or not Arthur will join you to play golf. An intuitive way to do this is through a Decision Tree.\n",
    "\n",
    "<div>\n",
    "<img src=\"img/playgolf.png\" width=\"500\"/>\n",
    "</div>"
   ]
  },
  {
   "cell_type": "markdown",
   "metadata": {},
   "source": [
    "<div>\n",
    "<img src=\"img/dt0.png\" width=\"600\"/>\n",
    "</div>"
   ]
  },
  {
   "cell_type": "markdown",
   "metadata": {},
   "source": [
    "https://www.vebuso.com/2020/01/decision-tree-intuition-from-concept-to-application/\n",
    "\n",
    "https://sefiks.com/2017/11/20/a-step-by-step-id3-decision-tree-example/\n",
    "\n",
    "https://sefiks.com/2018/08/27/a-step-by-step-cart-decision-tree-example/\n",
    "\n",
    "https://tomaszgolan.github.io/introduction_to_machine_learning/markdown/introduction_to_machine_learning_02_dt/introduction_to_machine_learning_02_dt/#decision-trees_1"
   ]
  },
  {
   "cell_type": "markdown",
   "metadata": {},
   "source": [
    "* **Root Node:** \n",
    "    - The attribute that best classifies the training data, use this attribute at the root of the tree. \n",
    "    - The first split which decides the entire population or sample data should further get divided into two or more homogeneous sets.\n",
    "    \n",
    "* **Splitting:** It is a process of dividing a node into two or more *sub-nodes*.\n",
    "\n",
    ">**Question:** Base on which attribute (feature) to split? What is the best split?\n",
    "\n",
    ">**Answer:** Use the attribute with the highest **Information Gain** or **Gini Gain**\n",
    "\n",
    "* **Decision Node:** This node decides whether/when a *sub-node* splits into further sub-nodes or not.\n",
    "\n",
    "* **Leaf:** Terminal Node that predicts the outcome (categorical or continues value). The *coloured nodes*, i.e., *Yes* and *No* nodes, are the leaves."
   ]
  },
  {
   "cell_type": "markdown",
   "metadata": {},
   "source": [
    "## ID3 (Iterative Dichotomiser)\n",
    "\n",
    "ID3 decision tree algorithm uses **Information Gain** to decide the splitting points. In order to measure how much information we gain, we can use **Entropy** to calculate the homogeneity of a sample.\n",
    "\n",
    ">**Question:** What is **“Entropy”**? and What is its function?\n",
    "\n",
    ">**Answer:** It is a measure of the amount of uncertainty in a data set. Entropy controls how a Decision Tree decides to split the data. It actually affects how a Decision Tree draws its boundaries.\n",
    "\n",
    "We can summarize the ID3 algorithm as illustrated below:\n",
    "\n",
    "1. Calculate **Entropy** (Amount of uncertainity in dataset):\n",
    "\n",
    "$$Entropy(S) = \\frac{-p}{p+n}log_{2}(\\frac{p}{p+n}) - \\frac{n}{p+n}log_{2}(\\frac{n}{p+n})$$\n",
    "\n",
    "2. Calculate **Average Information**:\n",
    "\n",
    "$$I(Attribute) = ∑\\frac{p_{i}+n_{i}}{p+n}Entropy(A)$$\n",
    "\n",
    "3. Calculate **Information Gain**: (Difference in Entropy before and after splitting dataset on attribute A)\n",
    "\n",
    "$$Gain = Entropy(S) - I(Attribute)$$"
   ]
  },
  {
   "cell_type": "markdown",
   "metadata": {},
   "source": [
    "1. Compute the entropy for data-set **Entropy(s)**\n",
    "    - Calculate **Entropy** (Amount of uncertainity in dataset):\n",
    "$$Entropy(S) = \\frac{-p}{p+n}log_{2}(\\frac{p}{p+n}) - \\frac{n}{p+n}log_{2}(\\frac{n}{p+n})$$\n",
    "    \n",
    "2. For every attribute/feature:\n",
    "    - Calculate entropy for all other values **Entropy(A)**\n",
    "             \n",
    "    - Take **Average Information Entropy** for the current attribute\n",
    "        - Calculate **Average Information**:\n",
    "    $$I(Attribute) = ∑\\frac{p_{i}+n_{i}}{p+n}Entropy(A)$$  \n",
    "    \n",
    "    - Calculate **Gain** for the current attribute\n",
    "        - Calculate **Information Gain**: (Difference in Entropy before and after splitting dataset on attribute A)        \n",
    "$$Gain = Entropy(S) - I(Attribute)$$\n",
    "\n",
    "3. Pick the **Highest Gain Attribute**.\n",
    "4. **Repeat** until we get the tree we desired."
   ]
  },
  {
   "cell_type": "markdown",
   "metadata": {},
   "source": [
    "### 1. Compute the entropy for data-set Entropy(s)\n",
    "\n",
    "We need to calculate the entropy first. Decision column consists of 14 instances and includes two labels: **Yes** and **No**. There are 9 decisions labeled **Yes**, and 5 decisions labeled **No**.\n",
    "\n",
    "<div>\n",
    "<img src=\"img/ID3pg1.png\" width=\"500\"/>\n",
    "</div>"
   ]
  },
  {
   "cell_type": "markdown",
   "metadata": {},
   "source": [
    "Calculate Entropy(S):\n",
    "\n",
    "$$Entropy(S) = (Yes)log_{2}(Yes) - (No)log_{2}(No)$$\n",
    "\n",
    "$$Entropy(S) = \\frac{-p}{p+n}log_{2}(\\frac{p}{p+n}) - \\frac{n}{p+n}log_{2}(\\frac{n}{p+n})$$\n",
    "\n",
    "$$Entropy(S) = \\frac{-9}{9+5}log_{2}(\\frac{9}{9+5}) - \\frac{5}{9+5}log_{2}(\\frac{5}{9+5})$$\n",
    "\n",
    "$$Entropy(S) = \\frac{-9}{14}log_{2}(\\frac{9}{14}) - \\frac{5}{14}log_{2}(\\frac{5}{14})$$\n",
    "\n",
    "$$Entropy(S) = 0.940$$"
   ]
  },
  {
   "cell_type": "markdown",
   "metadata": {},
   "source": [
    "### 2. For each Attribute: (let say Outlook)\n",
    "\n",
    "#### Calculate Entropy for each Values, i.e for 'Sunny', 'Rainy' and 'Overcast'.\n",
    "\n",
    "| Outlook   | PlayGolf | \\|  | Outlook   | PlayGolf | \\|  | Outlook      | PlayGolf |\n",
    "|:---------:|:--------:|:---:|:---------:|:--------:|:---:|:------------:|:--------:|\n",
    "| **Sunny** | **No**❌ | \\|  | **Rainy** | **Yes**✅| \\|  | **Overcast** | **Yes**✅|\n",
    "| **Sunny** | **No**❌ | \\|  | **Rainy** | **Yes**✅| \\|  | **Overcast** | **Yes**✅|\n",
    "| **Sunny** | **No**❌ | \\|  | **Rainy** | **No**❌ | \\|  | **Overcast** | **Yes**✅|\n",
    "| **Sunny** | **Yes**✅| \\|  | **Rainy** | **Yes**✅| \\|  | **Overcast** | **Yes**✅|\n",
    "| **Sunny** | **Yes**✅| \\|  | **Rainy** | **No**❌ | \\|  |              |           |\n",
    "\n",
    "Calculate Entropy(Outlook='Value'):\n",
    "\n",
    "$$Entropy(S) = \\frac{-p}{p+n}log_{2}(\\frac{p}{p+n}) - \\frac{n}{p+n}log_{2}(\\frac{n}{p+n})$$\n",
    "\n",
    "$$E(Outlook = Sunny) = \\frac{-2}{5}log_{2}(\\frac{2}{5}) - \\frac{3}{5}log_{2}(\\frac{3}{5}) = 0.971$$\n",
    "\n",
    "$$E(Outlook = Rainy) = \\frac{-3}{5}log_{2}(\\frac{3}{5}) - \\frac{2}{5}log_{2}(\\frac{2}{5}) = 0.971$$\n",
    "\n",
    "$$E(Outlook = Overcast) = -1 log_{2}(1) - 0 log_{2}(0) = 0$$\n",
    "\n",
    "|    Outlook   | Yes = $p$ | No = $n$ | Entropy |\n",
    "|:------------ |:-------:|:------:|:-------:|\n",
    "| **Sunny**    |**2**    | **3**  | **0.971** |\n",
    "| **Rainy**    |**3**    | **2**  | **0.971** |\n",
    "| **Overcast** |**4**    | **0**  | **0**     |"
   ]
  },
  {
   "cell_type": "markdown",
   "metadata": {},
   "source": [
    "Calculate Average Information Entropy:\n",
    "\n",
    "$$I(Outlook) = \\frac{p_{Sunny}+n_{Sunny}}{p+n}Entropy(Outlook=Sunny) + $$\n",
    "$$\\frac{p_{Rainy}+n_{Rainy}}{p+n}Entropy(Outlook=Rainy) + $$\n",
    "$$\\frac{p_{Overcast}+n_{Overcast}}{p+n}Entropy(Outlook=Overcast)$$\n",
    "\n",
    "$$I(Outlook) = \\frac{3+2}{9+5}*(0.971) + \\frac{2+3}{9+5}*(0.971) + \\frac{4+0}{9+5}*(0)$$\n",
    "\n",
    "$$I(Outlook) = 0.693$$"
   ]
  },
  {
   "cell_type": "markdown",
   "metadata": {},
   "source": [
    "Calculate Gain: attribute is Outlook\n",
    "\n",
    "$$Gain = Entropy(S) - I(Attribute)$$\n",
    "$$Entropy(S) = 0.940$$\n",
    "\n",
    "$$Gain(Outlook) = 0.940 - 0.693$$\n",
    "$$Gain(Outlook) = 0.247$$"
   ]
  },
  {
   "cell_type": "markdown",
   "metadata": {},
   "source": [
    "### 2. For each Attribute: (let say Temperature))\n",
    "\n",
    "#### Calculate Entropy for each Values, i.e for 'Hot', 'Mild' and 'Cool'.\n",
    "\n",
    "| Temperature | PlayGolf | \\|  | Temperature | PlayGolf | \\|  | Temperature | PlayGolf |\n",
    "|:-----------:|:--------:|:---:|:-----------:|:--------:|:---:|:-----------:|:--------:|\n",
    "| **Hot** | **No**❌     | \\|  | **Mild**  | **Yes**✅  | \\|  | **Cool** | **Yes**✅  |\n",
    "| **Hot** | **No**❌     | \\|  | **Mild**  | **No**❌   | \\|  | **Cool** | **No**❌   |\n",
    "| **Hot** | **Yes**✅    | \\|  | **Mild**  | **Yes**✅  | \\|  | **Cool** | **Yes**✅  |\n",
    "| **Hot** | **Yes**✅    | \\|  | **Mild**  | **Yes**✅  | \\|  | **Cool** | **Yes**✅  |\n",
    "|         |               | \\|  | **Mild**  | **Yes**✅  | \\|  |          |          |\n",
    "|         |               | \\|  | **Mild**  | **No**❌   | \\|  |          |          |\n",
    "\n",
    "Calculate Entropy(Temperature='Value'):\n",
    "\n",
    "$$Entropy(S) = \\frac{-p}{p+n}log_{2}(\\frac{p}{p+n}) - \\frac{n}{p+n}log_{2}(\\frac{n}{p+n})$$\n",
    "\n",
    "$$E(Temperature = Hot) = \\frac{-2}{4}log_{2}(\\frac{2}{4}) - \\frac{2}{6}log_{2}(\\frac{2}{6}) = 1$$\n",
    "\n",
    "$$E(Temperature = Mild) = \\frac{-4}{6}log_{2}(\\frac{4}{6}) - \\frac{2}{6}log_{2}(\\frac{2}{5}) = 0.918$$\n",
    "\n",
    "$$E(Temperature = Cool) = \\frac{-3}{4}log_{2}(\\frac{-3}{4}) - \\frac{-1}{4}log_{2}(\\frac{-1}{4}) = 0.811$$\n",
    "\n",
    "| Temperature | Yes = $p$ | No = $n$ | Entropy   |\n",
    "|:------------|:---------:|:--------:|:---------:|\n",
    "| **Hot**     | **2**     | **2**    | **1**     |\n",
    "| **Mild**    | **4**     | **2**    | **0.918** |\n",
    "| **Cool**    | **3**     | **1**    | **0.811** |"
   ]
  },
  {
   "cell_type": "markdown",
   "metadata": {},
   "source": [
    "Calculate Average Information Entropy:\n",
    "\n",
    "$$I(Temperature) = \\frac{p_{Hot}+n_{Hot}}{p+n}Entropy(Temperature=Hot) + $$\n",
    "$$\\frac{p_{Mild}+n_{Mild}}{p+n}Entropy(Temperature=Mild) + $$\n",
    "$$\\frac{p_{Cool}+n_{Cool}}{p+n}Entropy(Temperature=Cool)$$\n",
    "\n",
    "$$I(Temperature) = \\frac{2+2}{9+5}*(1) + \\frac{4+2}{9+5}*(0.918) + \\frac{3+1}{9+5}*(0.811)$$\n",
    "\n",
    "$$I(Temperature) = 0.911$$"
   ]
  },
  {
   "cell_type": "markdown",
   "metadata": {},
   "source": [
    "Calculate Gain: attribute is Temperature\n",
    "\n",
    "$$Gain = Entropy(S) - I(Attribute)$$\n",
    "$$Entropy(S) = 0.940$$\n",
    "\n",
    "$$Gain(Temperature) = 0.940 - 0.911$$\n",
    "$$Gain(Temperature) = 0.029$$"
   ]
  },
  {
   "cell_type": "markdown",
   "metadata": {},
   "source": [
    "### 2. For each Attribute: (let say Humidity))\n",
    "\n",
    "#### Calculate Entropy for each Values, i.e for 'Normal' and 'High'.\n",
    "\n",
    "| Humidity | PlayGolf | \\|  | Humidity | PlayGolf | \n",
    "|:--------:|:--------:|:---:|:--------:|:--------:|\n",
    "| **Normal** | **Yes**✅ | \\|  | **High** | **No**❌  | \n",
    "| **Normal** | **No**❌  | \\|  | **High** | **No**❌  | \n",
    "| **Normal** | **Yes**✅ | \\|  | **High** | **Yes**✅ | \n",
    "| **Normal** | **Yes**✅ | \\|  | **High** | **Yes**✅ | \n",
    "| **Normal** | **Yes**✅ | \\|  | **High** | **No**❌  | \n",
    "| **Normal** | **Yes**✅ | \\|  | **High** | **Yes**✅ | \n",
    "| **Normal** | **Yes**✅ | \\|  | **High** | **No**❌  | \n",
    "\n",
    "Calculate Entropy(Humidity='Value'):\n",
    "\n",
    "$$Entropy(S) = \\frac{-p}{p+n}log_{2}(\\frac{p}{p+n}) - \\frac{n}{p+n}log_{2}(\\frac{n}{p+n})$$\n",
    "\n",
    "$$E(Humidity = Normal) = \\frac{-3}{7}log_{2}(\\frac{3}{7}) - \\frac{4}{7}log_{2}(\\frac{4}{7}) = 0.985$$\n",
    "\n",
    "$$E(Humidity = High) = \\frac{-6}{7}log_{2}(\\frac{6}{7}) - \\frac{1}{7}log_{2}(\\frac{1}{7}) = 0.591$$\n",
    "\n",
    "\n",
    "| Humidity   | Yes = $p$ | No = $n$ | Entropy   |\n",
    "|:-----------|:---------:|:--------:|:---------:|\n",
    "| **Normal** | **3**     | **4**    | **0.985** |\n",
    "| **High**   | **6**     | **1**    | **0.591** |"
   ]
  },
  {
   "cell_type": "markdown",
   "metadata": {},
   "source": [
    "Calculate Average Information Entropy:\n",
    "\n",
    "$$I(Humidity) = \\frac{p_{Normal}+n_{Normal}}{p+n}Entropy(Humidity=Normal) + $$\n",
    "$$\\frac{p_{High}+n_{High}}{p+n}Entropy(Humidity=High)$$\n",
    "\n",
    "$$I(Humidity) = \\frac{3+4}{9+5}*(0.985) + \\frac{6+1}{9+5}*(0.591) $$\n",
    "\n",
    "$$I(Humidity) = 0.788$$"
   ]
  },
  {
   "cell_type": "markdown",
   "metadata": {},
   "source": [
    "Calculate Gain: attribute is Humidity\n",
    "\n",
    "$$Gain = Entropy(S) - I(Attribute)$$\n",
    "$$Entropy(S) = 0.940$$\n",
    "\n",
    "$$Gain(Humidity) = 0.940 - 0.788$$\n",
    "$$Gain(Humidity) = 0.152$$"
   ]
  },
  {
   "cell_type": "markdown",
   "metadata": {},
   "source": [
    "### 2. For each Attribute: (let say Windy))\n",
    "\n",
    "#### Calculate Entropy for each Values, i.e for 'Weak' and 'Strong'.\n",
    "\n",
    "| Windy    | PlayGolf | \\|  | Windy | PlayGolf | \n",
    "|:--------:|:--------:|:---:|:--------:|:--------:|\n",
    "| **Weak** | **No**❌  | \\|  | **Strong** | **No**❌  | \n",
    "| **Weak** | **Yes**✅ | \\|  | **Strong** | **No**❌  | \n",
    "| **Weak** | **Yes**✅ | \\|  | **Strong** | **Yes**✅ | \n",
    "| **Weak** | **Yes**✅ | \\|  | **Strong** | **Yes**✅ | \n",
    "| **Weak** | **No**❌  | \\|  | **Strong** | **Yes**✅ | \n",
    "| **Weak** | **Yes**✅ | \\|  | **Strong** | **No**❌  | \n",
    "| **Weak** | **Yes**✅ | \\|  |            |         | \n",
    "| **Weak** | **Yes**✅ | \\|  |            |         | \n",
    "\n",
    "Calculate Entropy(Windy='Value'):\n",
    "\n",
    "$$Entropy(S) = \\frac{-p}{p+n}log_{2}(\\frac{p}{p+n}) - \\frac{n}{p+n}log_{2}(\\frac{n}{p+n})$$\n",
    "\n",
    "$$E(Windy = Normal) = \\frac{-6}{8}log_{2}(\\frac{6}{8}) - \\frac{2}{8}log_{2}(\\frac{2}{8}) = 0.811$$\n",
    "\n",
    "$$E(Windy = High) = \\frac{-3}{6}log_{2}(\\frac{3}{6}) - \\frac{3}{6}log_{2}(\\frac{3}{6}) = 1$$\n",
    "\n",
    "\n",
    "| Windy   | Yes = $p$ | No = $n$ | Entropy   |\n",
    "|:--------|:---------:|:--------:|:---------:|\n",
    "| **Weak**   | **6**     | **2**    | **0.811** |\n",
    "| **Strong** | **3**     | **3**    | **1**     |"
   ]
  },
  {
   "cell_type": "markdown",
   "metadata": {},
   "source": [
    "Calculate Average Information Entropy:\n",
    "\n",
    "$$I(Windy) = \\frac{p_{Weak}+n_{Weak}}{p+n}Entropy(Windy=Weak) + $$\n",
    "$$\\frac{p_{Strong}+n_{Strong}}{p+n}Entropy(Windy=Strong)$$\n",
    "\n",
    "$$I(Windy) = \\frac{6+2}{9+5}*(0.811) + \\frac{3+3}{9+5}*(1) $$\n",
    "\n",
    "$$I(Windy) = 0.892$$"
   ]
  },
  {
   "cell_type": "markdown",
   "metadata": {},
   "source": [
    "Calculate Gain: attribute is Windy\n",
    "\n",
    "$$Gain = Entropy(S) - I(Attribute)$$\n",
    "$$Entropy(S) = 0.940$$\n",
    "\n",
    "$$Gain(Windy) = 0.940 - 0.892$$\n",
    "$$Gain(Windy) = 0.048$$"
   ]
  },
  {
   "cell_type": "markdown",
   "metadata": {},
   "source": [
    "Pick the highest gain attribute.\n",
    "\n",
    "|    Attributes   |    Gain   |           |\n",
    "|:----------------|:---------:|:---------:|\n",
    "| **Outlook**     | **0.247** | ⬅️ Root node|\n",
    "| **Temperature** | **0.029** | |\n",
    "| **Humidity**    | **0.152** | |\n",
    "| **Windy**       | **0.048** | |\n",
    "\n",
    "As seen, outlook factor on decision produces the highest score. That's why, outlook decision will appear in the root node of the tree.\n",
    "\n",
    "<div>\n",
    "<img src=\"img/dt1.png\" width=\"500\"/>\n",
    "</div>"
   ]
  },
  {
   "cell_type": "markdown",
   "metadata": {},
   "source": [
    "Now, we need to test dataset for custom subsets of outlook attribute.\n",
    "\n",
    "**Outlook = Overcast**\n",
    "\n",
    "| Outlook | Temperature | Humidity | Windy | PlayGolf |          |\n",
    "|:-------:|:-----------:|:--------:|:-----:|:--------:|:--------:|\n",
    "| **Overcast** | **Hot**  | **High**   | **Weak**   | **Yes**  | ✅ |\n",
    "| **Overcast** | **Cool** | **Normal** | **Strong** | **Yes**  | ✅ |\n",
    "| **Overcast** | **Mild** | **High**   | **Weak**   | **Yes**  | ✅ |\n",
    "| **Overcast** | **Hot**  | **Normal** | **Strong** | **Yes**  | ✅ |\n",
    "\n",
    "Basically, decision will always be **Yes** if outlook were overcast.\n",
    "\n",
    "<div>\n",
    "<img src=\"img/dt2.png\" width=\"600\"/>\n",
    "</div>"
   ]
  },
  {
   "cell_type": "markdown",
   "metadata": {},
   "source": [
    "Repeat the same thing for sub-trees till we get the tree.\n",
    "\n",
    "**Outlook = Sunny**\n",
    "\n",
    "| Outlook | Temperature | Humidity | Windy | PlayGolf |          |\n",
    "|:-------:|:-----------:|:--------:|:-----:|:--------:|:--------:|\n",
    "| **Sunny** | **Hot**  | **High**   | **Weak**   | **No**  | ❌ |\n",
    "| **Sunny** | **Hot**  | **High**   | **Strong** | **No**  | ❌ | \n",
    "| **Sunny** | **Mild** | **High**   | **Weak**   | **No**  | ❌ | \n",
    "| **Sunny** | **Cool** | **Normal** | **Weak**   | **Yes** | ✅ | \n",
    "| **Sunny** | **Mild** | **Normal** | **Strong** | **Yes** | ✅ | \n",
    "\n",
    "$$p = 2, n = 3$$\n",
    "\n",
    "Calculate Entropy(S):\n",
    "\n",
    "$$Entropy(S) = (Yes)log_{2}(Yes) - (No)log_{3}(No)$$\n",
    "\n",
    "$$Entropy(S) = \\frac{-p}{p+n}log_{2}(\\frac{p}{p+n}) - \\frac{n}{p+n}log_{2}(\\frac{n}{p+n})$$\n",
    "\n",
    "$$Entropy(S) = \\frac{-2}{2+3}log_{2}(\\frac{2}{2+3}) - \\frac{3}{2+3}log_{2}(\\frac{3}{2+3})$$\n",
    "\n",
    "$$Entropy(S) = 0.971$$"
   ]
  },
  {
   "cell_type": "markdown",
   "metadata": {},
   "source": [
    "For each Attribute: (let say Humidity):\n",
    "\n",
    "Calculate Entropy for each Humidity, i.e for 'High' and 'Normal'\n",
    "\n",
    "| Outlook |  Humidity | PlayGolf |          |\n",
    "|:-------:|--------:|--------:|:--------:|\n",
    "| **Sunny** | **High**   | **No**  | ❌ |\n",
    "| **Sunny** | **High**   | **No**  | ❌ | \n",
    "| **Sunny** | **High**   | **No**  | ❌ | \n",
    "| **Sunny** | **Normal** | **Yes** | ✅ | \n",
    "| **Sunny** | **Normal** | **Yes** | ✅ |\n",
    "\n",
    "| Humidity| Yes = $p$ | No = $n$ | Entropy |\n",
    "|:--------|:---------:|:--------:|:-------:|\n",
    "| **High**   | **0**  | **3**    | **0**   |\n",
    "| **Normal** | **2**  | **0**    | **0**   |\n",
    "\n",
    "Calculate Average Information Entropy:\n",
    "\n",
    "$$I(Humidity) = 0$$\n",
    "\n",
    "Calculate Gain:\n",
    "\n",
    "$$Gain = 0.971$$"
   ]
  },
  {
   "cell_type": "markdown",
   "metadata": {},
   "source": [
    "For each Attribute: (let say Windy):\n",
    "\n",
    "Calculate Entropy for each Windy, i.e for 'Strong' and 'Weak'\n",
    "\n",
    "| Outlook |  Windy | PlayGolf |          |\n",
    "|:-------:|--------:|--------:|:--------:|\n",
    "| **Sunny** | **Strong** | **No**  | ❌ |\n",
    "| **Sunny** | **Strong** | **Yes** | ✅ | \n",
    "| **Sunny** | **Weak**   | **No**  | ❌ | \n",
    "| **Sunny** | **Weak**   | **No**  | ❌ | \n",
    "| **Sunny** | **Weak**   | **Yes** | ✅ |\n",
    "\n",
    "| Windy   | Yes = $p$ | No = $n$ | Entropy  |\n",
    "|:--------|:---------:|:--------:|:--------:|\n",
    "| **Strong** | **1**  | **1**    | **1**    |\n",
    "| **Weak**   | **1**  | **2**    | **0.918**|\n",
    "\n",
    "Calculate Average Information Entropy:\n",
    "\n",
    "$$I(Windy) = 0.951$$\n",
    "\n",
    "Calculate Gain:\n",
    "\n",
    "$$Gain = 0.020$$"
   ]
  },
  {
   "cell_type": "markdown",
   "metadata": {},
   "source": [
    "For each Attribute: (let say Temperature):\n",
    "\n",
    "Calculate Entropy for each Temperature, i.e for Cool', 'Hot' and 'Mild'\n",
    "\n",
    "| Outlook |  Temperature | PlayGolf |          |\n",
    "|:-------:|--------:|--------:|:--------:|\n",
    "| **Sunny** | **Cool** | **Yes** | ✅ |\n",
    "| **Sunny** | **Hot**  | **No**  | ❌ | \n",
    "| **Sunny** | **Hot**  | **No**  | ❌ | \n",
    "| **Sunny** | **Mild** | **No**  | ❌ | \n",
    "| **Sunny** | **Mild** | **Yes** | ✅ |\n",
    "\n",
    "| Temperature   | Yes = $p$ | No = $n$ | Entropy  |\n",
    "|:--------|:---------:|:--------:|:--------:|\n",
    "| **Cool** | **1**  | **0**    | **0**    |\n",
    "| **Hot**  | **0**  | **2**    | **0**|\n",
    "| **Mild** | **1**  | **1**    | **1**|\n",
    "\n",
    "Calculate Average Information Entropy:\n",
    "\n",
    "$$I(Temperature) = 0.4$$\n",
    "\n",
    "Calculate Gain:\n",
    "\n",
    "$$Gain = 0.571$$"
   ]
  },
  {
   "cell_type": "markdown",
   "metadata": {},
   "source": [
    "Pick the highest gain attribute.\n",
    "\n",
    "|    Attributes   |    Gain   |           |\n",
    "|:----------------|:---------:|:---------:|\n",
    "| **Humidity**    | **0.971** | ⬅️ Root node|\n",
    "| **Windy**       | **0.02** | |\n",
    "| **Temperature** | **0.571** | |\n",
    "\n",
    "As seen, Humidity factor on decision produces the highest score. That's why, Humidity decision will appear in the next node of the Sunny."
   ]
  },
  {
   "cell_type": "markdown",
   "metadata": {},
   "source": [
    "<div>\n",
    "<img src=\"img/dt3.png\" width=\"600\"/>\n",
    "</div>"
   ]
  },
  {
   "cell_type": "markdown",
   "metadata": {},
   "source": [
    "**Outlook = Rainy**\n",
    "\n",
    "| Outlook | Temperature | Humidity | Windy | PlayGolf |          |\n",
    "|:-------:|:-----------:|:--------:|:-----:|:--------:|:--------:|\n",
    "| **Rainy** | **Mild**  | **High**   | **Weak**   | **Yes** | ✅ |\n",
    "| **Rainy** | **Cool**  | **Normal** | **Weak**   | **Yes** | ✅ |\n",
    "| **Rainy** | **Cool**  | **Normal** | **Strong** | **No**  | ❌ |\n",
    "| **Rainy** | **Mild**  | **Normal** | **Weak**   | **Yes** | ✅ |\n",
    "| **Rainy** | **Mild**  | **High**   | **Strong** | **No**  | ❌ |\n",
    "\n",
    "$$p = 3, n = 2$$\n",
    "\n",
    "Calculate Entropy(S):\n",
    "\n",
    "$$Entropy(S) = (Yes)log_{2}(Yes) - (No)log_{3}(No)$$\n",
    "\n",
    "$$Entropy(S) = \\frac{-p}{p+n}log_{2}(\\frac{p}{p+n}) - \\frac{n}{p+n}log_{2}(\\frac{n}{p+n})$$\n",
    "\n",
    "$$Entropy(S) = \\frac{-3}{2+3}log_{2}(\\frac{3}{2+3}) - \\frac{2}{2+3}log_{2}(\\frac{2}{2+3})$$\n",
    "\n",
    "$$Entropy(S) = 0.971$$"
   ]
  },
  {
   "cell_type": "markdown",
   "metadata": {},
   "source": [
    "For each Attribute: (let say Humidity):\n",
    "\n",
    "Calculate Entropy for each Humidity, i.e for 'High' and 'Normal'\n",
    "\n",
    "| Outlook |  Humidity | PlayGolf |          |\n",
    "|:-------:|--------:|--------:|:--------:|\n",
    "| **Rainy** | **High**   | **Yes** | ✅ |\n",
    "| **Rainy** | **High**   | **No**  | ❌ | \n",
    "| **Rainy** | **Normal** | **Yes** | ✅ | \n",
    "| **Rainy** | **Normal** | **No**  | ❌ | \n",
    "| **Rainy** | **Normal** | **Yes** | ✅ |\n",
    "\n",
    "| Humidity| Yes = $p$ | No = $n$ | Entropy |\n",
    "|:--------|:---------:|:--------:|:-------:|\n",
    "| **High**   | **1**  | **1**    | **1**   |\n",
    "| **Normal** | **2**  | **1**    | **0.918**   |\n",
    "\n",
    "Calculate Average Information Entropy:\n",
    "\n",
    "$$I(Humidity) = 0.951$$\n",
    "\n",
    "Calculate Gain:\n",
    "\n",
    "$$Gain = 0.02$$"
   ]
  },
  {
   "cell_type": "markdown",
   "metadata": {},
   "source": [
    "For each Attribute: (let say Windy):\n",
    "\n",
    "Calculate Entropy for each Windy, i.e for 'Strong' and 'Weak'\n",
    "\n",
    "| Outlook |  Windy | PlayGolf |          |\n",
    "|:-------:|--------:|--------:|:--------:|\n",
    "| **Rainy** | **Strong** | **No**  | ❌ |\n",
    "| **Rainy** | **Strong** | **No**  | ❌ | \n",
    "| **Rainy** | **Weak**   | **Yes** | ✅ | \n",
    "| **Rainy** | **Weak**   | **Yes** | ✅ | \n",
    "| **Rainy** | **Weak**   | **Yes** | ✅ |\n",
    "\n",
    "| Windy   | Yes = $p$ | No = $n$ | Entropy  |\n",
    "|:--------|:---------:|:--------:|:--------:|\n",
    "| **Strong** | **0**  | **2**    | **0**    |\n",
    "| **Weak**   | **3**  | **0**    | **0**|\n",
    "\n",
    "Calculate Average Information Entropy:\n",
    "\n",
    "$$I(Windy) = 0$$\n",
    "\n",
    "Calculate Gain:\n",
    "\n",
    "$$Gain = 0.971$$"
   ]
  },
  {
   "cell_type": "markdown",
   "metadata": {},
   "source": [
    "For each Attribute: (let say Temperature):\n",
    "\n",
    "Calculate Entropy for each Temperature, i.e for Cool', 'Hot' and 'Mild'\n",
    "\n",
    "| Outlook |  Temperature | PlayGolf |          |\n",
    "|:-------:|--------:|--------:|:--------:|\n",
    "| **Rainy** | **Mild** | **Yes** | ✅ |\n",
    "| **Rainy** | **Cool** | **Yes** | ✅ | \n",
    "| **Rainy** | **Cool** | **No**  | ❌ | \n",
    "| **Rainy** | **Mild** | **Yes** | ✅ | \n",
    "| **Rainy** | **Mild** | **No**  | ❌ |\n",
    "\n",
    "| Temperature   | Yes = $p$ | No = $n$ | Entropy  |\n",
    "|:--------|:---------:|:--------:|:--------:|\n",
    "| **Cool** | **1**  | **1**    | **1**    |\n",
    "| **Mild**  | **2**  | **1**    | **0.918**|\n",
    "\n",
    "Calculate Average Information Entropy:\n",
    "\n",
    "$$I(Temperature) = 0.951$$\n",
    "\n",
    "Calculate Gain:\n",
    "\n",
    "$$Gain = 0.02$$"
   ]
  },
  {
   "cell_type": "markdown",
   "metadata": {},
   "source": [
    "Pick the highest gain attribute.\n",
    "\n",
    "|    Attributes   |    Gain   |           |\n",
    "|:----------------|:---------:|:---------:|\n",
    "| **Humidity**    | **0.02**  | |\n",
    "| **Windy**       | **0.971** | ⬅️ Root node|\n",
    "| **Temperature** | **0.02**  | |\n",
    "\n",
    "As seen, Windy factor on decision produces the highest score. That's why, Windy decision will appear in the next node of the Rainy."
   ]
  },
  {
   "cell_type": "markdown",
   "metadata": {},
   "source": [
    "<div>\n",
    "<img src=\"img/dt.png\" width=\"600\"/>\n",
    "</div>\n",
    "\n",
    "So, decision tree construction is over. We can use the following rules for decisioning."
   ]
  },
  {
   "cell_type": "markdown",
   "metadata": {},
   "source": [
    "## Building a Decision Tree using Scikit Learn"
   ]
  },
  {
   "cell_type": "code",
   "execution_count": 1,
   "metadata": {
    "ExecuteTime": {
     "end_time": "2021-08-16T17:51:16.325448Z",
     "start_time": "2021-08-16T17:50:59.256709Z"
    }
   },
   "outputs": [],
   "source": [
    "# Importing the necessary module!\n",
    "\n",
    "import numpy as np\n",
    "import pandas as pd"
   ]
  },
  {
   "cell_type": "code",
   "execution_count": 3,
   "metadata": {
    "ExecuteTime": {
     "end_time": "2021-08-16T17:51:34.191266Z",
     "start_time": "2021-08-16T17:51:34.152805Z"
    },
    "scrolled": true
   },
   "outputs": [
    {
     "data": {
      "text/html": [
       "<div>\n",
       "<style scoped>\n",
       "    .dataframe tbody tr th:only-of-type {\n",
       "        vertical-align: middle;\n",
       "    }\n",
       "\n",
       "    .dataframe tbody tr th {\n",
       "        vertical-align: top;\n",
       "    }\n",
       "\n",
       "    .dataframe thead th {\n",
       "        text-align: right;\n",
       "    }\n",
       "</style>\n",
       "<table border=\"1\" class=\"dataframe\">\n",
       "  <thead>\n",
       "    <tr style=\"text-align: right;\">\n",
       "      <th></th>\n",
       "      <th>Outlook</th>\n",
       "      <th>Temperature</th>\n",
       "      <th>Humidity</th>\n",
       "      <th>Windy</th>\n",
       "      <th>Trained?</th>\n",
       "    </tr>\n",
       "  </thead>\n",
       "  <tbody>\n",
       "    <tr>\n",
       "      <th>0</th>\n",
       "      <td>Sunny</td>\n",
       "      <td>Hot</td>\n",
       "      <td>High</td>\n",
       "      <td>Weak</td>\n",
       "      <td>No</td>\n",
       "    </tr>\n",
       "    <tr>\n",
       "      <th>1</th>\n",
       "      <td>Sunny</td>\n",
       "      <td>Hot</td>\n",
       "      <td>High</td>\n",
       "      <td>Strong</td>\n",
       "      <td>No</td>\n",
       "    </tr>\n",
       "    <tr>\n",
       "      <th>2</th>\n",
       "      <td>Overcast</td>\n",
       "      <td>Hot</td>\n",
       "      <td>High</td>\n",
       "      <td>Weak</td>\n",
       "      <td>Yes</td>\n",
       "    </tr>\n",
       "    <tr>\n",
       "      <th>3</th>\n",
       "      <td>Rainy</td>\n",
       "      <td>Mild</td>\n",
       "      <td>High</td>\n",
       "      <td>Weak</td>\n",
       "      <td>Yes</td>\n",
       "    </tr>\n",
       "    <tr>\n",
       "      <th>4</th>\n",
       "      <td>Rainy</td>\n",
       "      <td>Cool</td>\n",
       "      <td>Normal</td>\n",
       "      <td>Weak</td>\n",
       "      <td>Yes</td>\n",
       "    </tr>\n",
       "    <tr>\n",
       "      <th>5</th>\n",
       "      <td>Rainy</td>\n",
       "      <td>Cool</td>\n",
       "      <td>Normal</td>\n",
       "      <td>Strong</td>\n",
       "      <td>No</td>\n",
       "    </tr>\n",
       "    <tr>\n",
       "      <th>6</th>\n",
       "      <td>Overcast</td>\n",
       "      <td>Cool</td>\n",
       "      <td>Normal</td>\n",
       "      <td>Strong</td>\n",
       "      <td>Yes</td>\n",
       "    </tr>\n",
       "    <tr>\n",
       "      <th>7</th>\n",
       "      <td>Sunny</td>\n",
       "      <td>Mild</td>\n",
       "      <td>High</td>\n",
       "      <td>Weak</td>\n",
       "      <td>No</td>\n",
       "    </tr>\n",
       "    <tr>\n",
       "      <th>8</th>\n",
       "      <td>Sunny</td>\n",
       "      <td>Cool</td>\n",
       "      <td>Normal</td>\n",
       "      <td>Weak</td>\n",
       "      <td>Yes</td>\n",
       "    </tr>\n",
       "    <tr>\n",
       "      <th>9</th>\n",
       "      <td>Rainy</td>\n",
       "      <td>Mild</td>\n",
       "      <td>Normal</td>\n",
       "      <td>Weak</td>\n",
       "      <td>Yes</td>\n",
       "    </tr>\n",
       "    <tr>\n",
       "      <th>10</th>\n",
       "      <td>Sunny</td>\n",
       "      <td>Mild</td>\n",
       "      <td>Normal</td>\n",
       "      <td>Strong</td>\n",
       "      <td>Yes</td>\n",
       "    </tr>\n",
       "    <tr>\n",
       "      <th>11</th>\n",
       "      <td>Overcast</td>\n",
       "      <td>Mild</td>\n",
       "      <td>High</td>\n",
       "      <td>Strong</td>\n",
       "      <td>Yes</td>\n",
       "    </tr>\n",
       "    <tr>\n",
       "      <th>12</th>\n",
       "      <td>Overcast</td>\n",
       "      <td>Hot</td>\n",
       "      <td>Normal</td>\n",
       "      <td>Weak</td>\n",
       "      <td>Yes</td>\n",
       "    </tr>\n",
       "    <tr>\n",
       "      <th>13</th>\n",
       "      <td>Rainy</td>\n",
       "      <td>Mild</td>\n",
       "      <td>High</td>\n",
       "      <td>Strong</td>\n",
       "      <td>No</td>\n",
       "    </tr>\n",
       "  </tbody>\n",
       "</table>\n",
       "</div>"
      ],
      "text/plain": [
       "     Outlook Temperature Humidity   Windy Trained?\n",
       "0      Sunny         Hot     High    Weak       No\n",
       "1      Sunny         Hot     High  Strong       No\n",
       "2   Overcast         Hot     High    Weak      Yes\n",
       "3      Rainy        Mild     High    Weak      Yes\n",
       "4      Rainy        Cool   Normal    Weak      Yes\n",
       "5      Rainy        Cool   Normal  Strong       No\n",
       "6   Overcast        Cool   Normal  Strong      Yes\n",
       "7      Sunny        Mild     High    Weak       No\n",
       "8      Sunny        Cool   Normal    Weak      Yes\n",
       "9      Rainy        Mild   Normal    Weak      Yes\n",
       "10     Sunny        Mild   Normal  Strong      Yes\n",
       "11  Overcast        Mild     High  Strong      Yes\n",
       "12  Overcast         Hot   Normal    Weak      Yes\n",
       "13     Rainy        Mild     High  Strong       No"
      ]
     },
     "execution_count": 3,
     "metadata": {},
     "output_type": "execute_result"
    }
   ],
   "source": [
    "# Importing data\n",
    "\n",
    "df = pd.read_csv(\"dataset/weather_data2.csv\")\n",
    "df"
   ]
  },
  {
   "cell_type": "code",
   "execution_count": 4,
   "metadata": {
    "ExecuteTime": {
     "end_time": "2021-08-16T17:51:39.040926Z",
     "start_time": "2021-08-16T17:51:38.952308Z"
    }
   },
   "outputs": [
    {
     "data": {
      "text/plain": [
       "Outlook        object\n",
       "Temperature    object\n",
       "Humidity       object\n",
       "Windy          object\n",
       "Trained?       object\n",
       "dtype: object"
      ]
     },
     "execution_count": 4,
     "metadata": {},
     "output_type": "execute_result"
    }
   ],
   "source": [
    "df.dtypes"
   ]
  },
  {
   "cell_type": "code",
   "execution_count": 5,
   "metadata": {
    "ExecuteTime": {
     "end_time": "2021-08-16T17:51:39.895942Z",
     "start_time": "2021-08-16T17:51:39.788826Z"
    }
   },
   "outputs": [
    {
     "name": "stdout",
     "output_type": "stream",
     "text": [
      "<class 'pandas.core.frame.DataFrame'>\n",
      "RangeIndex: 14 entries, 0 to 13\n",
      "Data columns (total 5 columns):\n",
      " #   Column       Non-Null Count  Dtype \n",
      "---  ------       --------------  ----- \n",
      " 0   Outlook      14 non-null     object\n",
      " 1   Temperature  14 non-null     object\n",
      " 2   Humidity     14 non-null     object\n",
      " 3   Windy        14 non-null     object\n",
      " 4   Trained?     14 non-null     object\n",
      "dtypes: object(5)\n",
      "memory usage: 688.0+ bytes\n"
     ]
    }
   ],
   "source": [
    "df.info()"
   ]
  },
  {
   "cell_type": "code",
   "execution_count": 12,
   "metadata": {
    "ExecuteTime": {
     "end_time": "2021-08-16T17:54:01.743940Z",
     "start_time": "2021-08-16T17:54:01.696226Z"
    }
   },
   "outputs": [
    {
     "data": {
      "text/html": [
       "<div>\n",
       "<style scoped>\n",
       "    .dataframe tbody tr th:only-of-type {\n",
       "        vertical-align: middle;\n",
       "    }\n",
       "\n",
       "    .dataframe tbody tr th {\n",
       "        vertical-align: top;\n",
       "    }\n",
       "\n",
       "    .dataframe thead th {\n",
       "        text-align: right;\n",
       "    }\n",
       "</style>\n",
       "<table border=\"1\" class=\"dataframe\">\n",
       "  <thead>\n",
       "    <tr style=\"text-align: right;\">\n",
       "      <th></th>\n",
       "      <th>Trained?</th>\n",
       "      <th>Temperature_Cool</th>\n",
       "      <th>Temperature_Hot</th>\n",
       "      <th>Temperature_Mild</th>\n",
       "      <th>Humidity_High</th>\n",
       "      <th>Humidity_Normal</th>\n",
       "      <th>Outlook_Overcast</th>\n",
       "      <th>Outlook_Rainy</th>\n",
       "      <th>Outlook_Sunny</th>\n",
       "      <th>Windy_Strong</th>\n",
       "      <th>Windy_Weak</th>\n",
       "    </tr>\n",
       "  </thead>\n",
       "  <tbody>\n",
       "    <tr>\n",
       "      <th>0</th>\n",
       "      <td>No</td>\n",
       "      <td>0</td>\n",
       "      <td>1</td>\n",
       "      <td>0</td>\n",
       "      <td>1</td>\n",
       "      <td>0</td>\n",
       "      <td>0</td>\n",
       "      <td>0</td>\n",
       "      <td>1</td>\n",
       "      <td>0</td>\n",
       "      <td>1</td>\n",
       "    </tr>\n",
       "    <tr>\n",
       "      <th>1</th>\n",
       "      <td>No</td>\n",
       "      <td>0</td>\n",
       "      <td>1</td>\n",
       "      <td>0</td>\n",
       "      <td>1</td>\n",
       "      <td>0</td>\n",
       "      <td>0</td>\n",
       "      <td>0</td>\n",
       "      <td>1</td>\n",
       "      <td>1</td>\n",
       "      <td>0</td>\n",
       "    </tr>\n",
       "    <tr>\n",
       "      <th>2</th>\n",
       "      <td>Yes</td>\n",
       "      <td>0</td>\n",
       "      <td>1</td>\n",
       "      <td>0</td>\n",
       "      <td>1</td>\n",
       "      <td>0</td>\n",
       "      <td>1</td>\n",
       "      <td>0</td>\n",
       "      <td>0</td>\n",
       "      <td>0</td>\n",
       "      <td>1</td>\n",
       "    </tr>\n",
       "    <tr>\n",
       "      <th>3</th>\n",
       "      <td>Yes</td>\n",
       "      <td>0</td>\n",
       "      <td>0</td>\n",
       "      <td>1</td>\n",
       "      <td>1</td>\n",
       "      <td>0</td>\n",
       "      <td>0</td>\n",
       "      <td>1</td>\n",
       "      <td>0</td>\n",
       "      <td>0</td>\n",
       "      <td>1</td>\n",
       "    </tr>\n",
       "    <tr>\n",
       "      <th>4</th>\n",
       "      <td>Yes</td>\n",
       "      <td>1</td>\n",
       "      <td>0</td>\n",
       "      <td>0</td>\n",
       "      <td>0</td>\n",
       "      <td>1</td>\n",
       "      <td>0</td>\n",
       "      <td>1</td>\n",
       "      <td>0</td>\n",
       "      <td>0</td>\n",
       "      <td>1</td>\n",
       "    </tr>\n",
       "    <tr>\n",
       "      <th>5</th>\n",
       "      <td>No</td>\n",
       "      <td>1</td>\n",
       "      <td>0</td>\n",
       "      <td>0</td>\n",
       "      <td>0</td>\n",
       "      <td>1</td>\n",
       "      <td>0</td>\n",
       "      <td>1</td>\n",
       "      <td>0</td>\n",
       "      <td>1</td>\n",
       "      <td>0</td>\n",
       "    </tr>\n",
       "    <tr>\n",
       "      <th>6</th>\n",
       "      <td>Yes</td>\n",
       "      <td>1</td>\n",
       "      <td>0</td>\n",
       "      <td>0</td>\n",
       "      <td>0</td>\n",
       "      <td>1</td>\n",
       "      <td>1</td>\n",
       "      <td>0</td>\n",
       "      <td>0</td>\n",
       "      <td>1</td>\n",
       "      <td>0</td>\n",
       "    </tr>\n",
       "    <tr>\n",
       "      <th>7</th>\n",
       "      <td>No</td>\n",
       "      <td>0</td>\n",
       "      <td>0</td>\n",
       "      <td>1</td>\n",
       "      <td>1</td>\n",
       "      <td>0</td>\n",
       "      <td>0</td>\n",
       "      <td>0</td>\n",
       "      <td>1</td>\n",
       "      <td>0</td>\n",
       "      <td>1</td>\n",
       "    </tr>\n",
       "    <tr>\n",
       "      <th>8</th>\n",
       "      <td>Yes</td>\n",
       "      <td>1</td>\n",
       "      <td>0</td>\n",
       "      <td>0</td>\n",
       "      <td>0</td>\n",
       "      <td>1</td>\n",
       "      <td>0</td>\n",
       "      <td>0</td>\n",
       "      <td>1</td>\n",
       "      <td>0</td>\n",
       "      <td>1</td>\n",
       "    </tr>\n",
       "    <tr>\n",
       "      <th>9</th>\n",
       "      <td>Yes</td>\n",
       "      <td>0</td>\n",
       "      <td>0</td>\n",
       "      <td>1</td>\n",
       "      <td>0</td>\n",
       "      <td>1</td>\n",
       "      <td>0</td>\n",
       "      <td>1</td>\n",
       "      <td>0</td>\n",
       "      <td>0</td>\n",
       "      <td>1</td>\n",
       "    </tr>\n",
       "    <tr>\n",
       "      <th>10</th>\n",
       "      <td>Yes</td>\n",
       "      <td>0</td>\n",
       "      <td>0</td>\n",
       "      <td>1</td>\n",
       "      <td>0</td>\n",
       "      <td>1</td>\n",
       "      <td>0</td>\n",
       "      <td>0</td>\n",
       "      <td>1</td>\n",
       "      <td>1</td>\n",
       "      <td>0</td>\n",
       "    </tr>\n",
       "    <tr>\n",
       "      <th>11</th>\n",
       "      <td>Yes</td>\n",
       "      <td>0</td>\n",
       "      <td>0</td>\n",
       "      <td>1</td>\n",
       "      <td>1</td>\n",
       "      <td>0</td>\n",
       "      <td>1</td>\n",
       "      <td>0</td>\n",
       "      <td>0</td>\n",
       "      <td>1</td>\n",
       "      <td>0</td>\n",
       "    </tr>\n",
       "    <tr>\n",
       "      <th>12</th>\n",
       "      <td>Yes</td>\n",
       "      <td>0</td>\n",
       "      <td>1</td>\n",
       "      <td>0</td>\n",
       "      <td>0</td>\n",
       "      <td>1</td>\n",
       "      <td>1</td>\n",
       "      <td>0</td>\n",
       "      <td>0</td>\n",
       "      <td>0</td>\n",
       "      <td>1</td>\n",
       "    </tr>\n",
       "    <tr>\n",
       "      <th>13</th>\n",
       "      <td>No</td>\n",
       "      <td>0</td>\n",
       "      <td>0</td>\n",
       "      <td>1</td>\n",
       "      <td>1</td>\n",
       "      <td>0</td>\n",
       "      <td>0</td>\n",
       "      <td>1</td>\n",
       "      <td>0</td>\n",
       "      <td>1</td>\n",
       "      <td>0</td>\n",
       "    </tr>\n",
       "  </tbody>\n",
       "</table>\n",
       "</div>"
      ],
      "text/plain": [
       "   Trained?  Temperature_Cool  Temperature_Hot  Temperature_Mild  \\\n",
       "0        No                 0                1                 0   \n",
       "1        No                 0                1                 0   \n",
       "2       Yes                 0                1                 0   \n",
       "3       Yes                 0                0                 1   \n",
       "4       Yes                 1                0                 0   \n",
       "5        No                 1                0                 0   \n",
       "6       Yes                 1                0                 0   \n",
       "7        No                 0                0                 1   \n",
       "8       Yes                 1                0                 0   \n",
       "9       Yes                 0                0                 1   \n",
       "10      Yes                 0                0                 1   \n",
       "11      Yes                 0                0                 1   \n",
       "12      Yes                 0                1                 0   \n",
       "13       No                 0                0                 1   \n",
       "\n",
       "    Humidity_High  Humidity_Normal  Outlook_Overcast  Outlook_Rainy  \\\n",
       "0               1                0                 0              0   \n",
       "1               1                0                 0              0   \n",
       "2               1                0                 1              0   \n",
       "3               1                0                 0              1   \n",
       "4               0                1                 0              1   \n",
       "5               0                1                 0              1   \n",
       "6               0                1                 1              0   \n",
       "7               1                0                 0              0   \n",
       "8               0                1                 0              0   \n",
       "9               0                1                 0              1   \n",
       "10              0                1                 0              0   \n",
       "11              1                0                 1              0   \n",
       "12              0                1                 1              0   \n",
       "13              1                0                 0              1   \n",
       "\n",
       "    Outlook_Sunny  Windy_Strong  Windy_Weak  \n",
       "0               1             0           1  \n",
       "1               1             1           0  \n",
       "2               0             0           1  \n",
       "3               0             0           1  \n",
       "4               0             0           1  \n",
       "5               0             1           0  \n",
       "6               0             1           0  \n",
       "7               1             0           1  \n",
       "8               1             0           1  \n",
       "9               0             0           1  \n",
       "10              1             1           0  \n",
       "11              0             1           0  \n",
       "12              0             0           1  \n",
       "13              0             1           0  "
      ]
     },
     "execution_count": 12,
     "metadata": {},
     "output_type": "execute_result"
    }
   ],
   "source": [
    "# Converting categorical variables into dummies/indicator variables\n",
    "\n",
    "df_getdummy=pd.get_dummies(data=df, columns=['Temperature', 'Humidity', 'Outlook', 'Windy'])\n",
    "df_getdummy"
   ]
  },
  {
   "cell_type": "code",
   "execution_count": 14,
   "metadata": {
    "ExecuteTime": {
     "end_time": "2021-08-16T17:54:34.390481Z",
     "start_time": "2021-08-16T17:54:34.376851Z"
    }
   },
   "outputs": [],
   "source": [
    "# Separating the training set and test set\n",
    "\n",
    "from sklearn.model_selection import train_test_split\n",
    "\n",
    "X = df_getdummy.drop('PlayGolf',axis=1)\n",
    "y = df_getdummy['PlayGolf']\n",
    "X_train, X_test, y_train, y_test = train_test_split(X, y, test_size=0.30, random_state=101)"
   ]
  },
  {
   "cell_type": "code",
   "execution_count": 15,
   "metadata": {
    "ExecuteTime": {
     "end_time": "2021-08-16T17:54:38.020417Z",
     "start_time": "2021-08-16T17:54:37.954687Z"
    }
   },
   "outputs": [],
   "source": [
    "# importing Decision Tree Classifier via sklean\n",
    "\n",
    "from sklearn.tree import DecisionTreeClassifier\n",
    "\n",
    "dtree = DecisionTreeClassifier(criterion='entropy',max_depth=2)\n",
    "dtree.fit(X_train,y_train)\n",
    "predictions = dtree.predict(X_test)"
   ]
  },
  {
   "cell_type": "code",
   "execution_count": 11,
   "metadata": {
    "ExecuteTime": {
     "end_time": "2021-08-16T17:53:24.509209Z",
     "start_time": "2021-08-16T17:53:20.935758Z"
    }
   },
   "outputs": [
    {
     "ename": "NotFittedError",
     "evalue": "This DecisionTreeClassifier instance is not fitted yet. Call 'fit' with appropriate arguments before using this estimator.",
     "output_type": "error",
     "traceback": [
      "\u001b[1;31m---------------------------------------------------------------------------\u001b[0m",
      "\u001b[1;31mNotFittedError\u001b[0m                            Traceback (most recent call last)",
      "\u001b[1;32m<ipython-input-11-3df075ca4755>\u001b[0m in \u001b[0;36m<module>\u001b[1;34m\u001b[0m\n\u001b[0;32m      5\u001b[0m \u001b[1;32mimport\u001b[0m \u001b[0mmatplotlib\u001b[0m\u001b[1;33m.\u001b[0m\u001b[0mpyplot\u001b[0m \u001b[1;32mas\u001b[0m \u001b[0mplt\u001b[0m\u001b[1;33m\u001b[0m\u001b[1;33m\u001b[0m\u001b[0m\n\u001b[0;32m      6\u001b[0m \u001b[0mfig\u001b[0m \u001b[1;33m=\u001b[0m \u001b[0mplt\u001b[0m\u001b[1;33m.\u001b[0m\u001b[0mfigure\u001b[0m\u001b[1;33m(\u001b[0m\u001b[0mfigsize\u001b[0m\u001b[1;33m=\u001b[0m\u001b[1;33m(\u001b[0m\u001b[1;36m16\u001b[0m\u001b[1;33m,\u001b[0m\u001b[1;36m12\u001b[0m\u001b[1;33m)\u001b[0m\u001b[1;33m)\u001b[0m\u001b[1;33m\u001b[0m\u001b[1;33m\u001b[0m\u001b[0m\n\u001b[1;32m----> 7\u001b[1;33m a = plot_tree(dtree, feature_names=df_getdummy.columns, fontsize=12, filled=True, \n\u001b[0m\u001b[0;32m      8\u001b[0m               class_names=['Not_Run', 'Run'])\n",
      "\u001b[1;32mC:\\ProgramData\\Anaconda3\\lib\\site-packages\\sklearn\\utils\\validation.py\u001b[0m in \u001b[0;36minner_f\u001b[1;34m(*args, **kwargs)\u001b[0m\n\u001b[0;32m     61\u001b[0m             \u001b[0mextra_args\u001b[0m \u001b[1;33m=\u001b[0m \u001b[0mlen\u001b[0m\u001b[1;33m(\u001b[0m\u001b[0margs\u001b[0m\u001b[1;33m)\u001b[0m \u001b[1;33m-\u001b[0m \u001b[0mlen\u001b[0m\u001b[1;33m(\u001b[0m\u001b[0mall_args\u001b[0m\u001b[1;33m)\u001b[0m\u001b[1;33m\u001b[0m\u001b[1;33m\u001b[0m\u001b[0m\n\u001b[0;32m     62\u001b[0m             \u001b[1;32mif\u001b[0m \u001b[0mextra_args\u001b[0m \u001b[1;33m<=\u001b[0m \u001b[1;36m0\u001b[0m\u001b[1;33m:\u001b[0m\u001b[1;33m\u001b[0m\u001b[1;33m\u001b[0m\u001b[0m\n\u001b[1;32m---> 63\u001b[1;33m                 \u001b[1;32mreturn\u001b[0m \u001b[0mf\u001b[0m\u001b[1;33m(\u001b[0m\u001b[1;33m*\u001b[0m\u001b[0margs\u001b[0m\u001b[1;33m,\u001b[0m \u001b[1;33m**\u001b[0m\u001b[0mkwargs\u001b[0m\u001b[1;33m)\u001b[0m\u001b[1;33m\u001b[0m\u001b[1;33m\u001b[0m\u001b[0m\n\u001b[0m\u001b[0;32m     64\u001b[0m \u001b[1;33m\u001b[0m\u001b[0m\n\u001b[0;32m     65\u001b[0m             \u001b[1;31m# extra_args > 0\u001b[0m\u001b[1;33m\u001b[0m\u001b[1;33m\u001b[0m\u001b[1;33m\u001b[0m\u001b[0m\n",
      "\u001b[1;32mC:\\ProgramData\\Anaconda3\\lib\\site-packages\\sklearn\\tree\\_export.py\u001b[0m in \u001b[0;36mplot_tree\u001b[1;34m(decision_tree, max_depth, feature_names, class_names, label, filled, impurity, node_ids, proportion, rotate, rounded, precision, ax, fontsize)\u001b[0m\n\u001b[0;32m    179\u001b[0m     \"\"\"\n\u001b[0;32m    180\u001b[0m \u001b[1;33m\u001b[0m\u001b[0m\n\u001b[1;32m--> 181\u001b[1;33m     \u001b[0mcheck_is_fitted\u001b[0m\u001b[1;33m(\u001b[0m\u001b[0mdecision_tree\u001b[0m\u001b[1;33m)\u001b[0m\u001b[1;33m\u001b[0m\u001b[1;33m\u001b[0m\u001b[0m\n\u001b[0m\u001b[0;32m    182\u001b[0m \u001b[1;33m\u001b[0m\u001b[0m\n\u001b[0;32m    183\u001b[0m     \u001b[1;32mif\u001b[0m \u001b[0mrotate\u001b[0m \u001b[1;33m!=\u001b[0m \u001b[1;34m'deprecated'\u001b[0m\u001b[1;33m:\u001b[0m\u001b[1;33m\u001b[0m\u001b[1;33m\u001b[0m\u001b[0m\n",
      "\u001b[1;32mC:\\ProgramData\\Anaconda3\\lib\\site-packages\\sklearn\\utils\\validation.py\u001b[0m in \u001b[0;36minner_f\u001b[1;34m(*args, **kwargs)\u001b[0m\n\u001b[0;32m     61\u001b[0m             \u001b[0mextra_args\u001b[0m \u001b[1;33m=\u001b[0m \u001b[0mlen\u001b[0m\u001b[1;33m(\u001b[0m\u001b[0margs\u001b[0m\u001b[1;33m)\u001b[0m \u001b[1;33m-\u001b[0m \u001b[0mlen\u001b[0m\u001b[1;33m(\u001b[0m\u001b[0mall_args\u001b[0m\u001b[1;33m)\u001b[0m\u001b[1;33m\u001b[0m\u001b[1;33m\u001b[0m\u001b[0m\n\u001b[0;32m     62\u001b[0m             \u001b[1;32mif\u001b[0m \u001b[0mextra_args\u001b[0m \u001b[1;33m<=\u001b[0m \u001b[1;36m0\u001b[0m\u001b[1;33m:\u001b[0m\u001b[1;33m\u001b[0m\u001b[1;33m\u001b[0m\u001b[0m\n\u001b[1;32m---> 63\u001b[1;33m                 \u001b[1;32mreturn\u001b[0m \u001b[0mf\u001b[0m\u001b[1;33m(\u001b[0m\u001b[1;33m*\u001b[0m\u001b[0margs\u001b[0m\u001b[1;33m,\u001b[0m \u001b[1;33m**\u001b[0m\u001b[0mkwargs\u001b[0m\u001b[1;33m)\u001b[0m\u001b[1;33m\u001b[0m\u001b[1;33m\u001b[0m\u001b[0m\n\u001b[0m\u001b[0;32m     64\u001b[0m \u001b[1;33m\u001b[0m\u001b[0m\n\u001b[0;32m     65\u001b[0m             \u001b[1;31m# extra_args > 0\u001b[0m\u001b[1;33m\u001b[0m\u001b[1;33m\u001b[0m\u001b[1;33m\u001b[0m\u001b[0m\n",
      "\u001b[1;32mC:\\ProgramData\\Anaconda3\\lib\\site-packages\\sklearn\\utils\\validation.py\u001b[0m in \u001b[0;36mcheck_is_fitted\u001b[1;34m(estimator, attributes, msg, all_or_any)\u001b[0m\n\u001b[0;32m   1039\u001b[0m \u001b[1;33m\u001b[0m\u001b[0m\n\u001b[0;32m   1040\u001b[0m     \u001b[1;32mif\u001b[0m \u001b[1;32mnot\u001b[0m \u001b[0mattrs\u001b[0m\u001b[1;33m:\u001b[0m\u001b[1;33m\u001b[0m\u001b[1;33m\u001b[0m\u001b[0m\n\u001b[1;32m-> 1041\u001b[1;33m         \u001b[1;32mraise\u001b[0m \u001b[0mNotFittedError\u001b[0m\u001b[1;33m(\u001b[0m\u001b[0mmsg\u001b[0m \u001b[1;33m%\u001b[0m \u001b[1;33m{\u001b[0m\u001b[1;34m'name'\u001b[0m\u001b[1;33m:\u001b[0m \u001b[0mtype\u001b[0m\u001b[1;33m(\u001b[0m\u001b[0mestimator\u001b[0m\u001b[1;33m)\u001b[0m\u001b[1;33m.\u001b[0m\u001b[0m__name__\u001b[0m\u001b[1;33m}\u001b[0m\u001b[1;33m)\u001b[0m\u001b[1;33m\u001b[0m\u001b[1;33m\u001b[0m\u001b[0m\n\u001b[0m\u001b[0;32m   1042\u001b[0m \u001b[1;33m\u001b[0m\u001b[0m\n\u001b[0;32m   1043\u001b[0m \u001b[1;33m\u001b[0m\u001b[0m\n",
      "\u001b[1;31mNotFittedError\u001b[0m: This DecisionTreeClassifier instance is not fitted yet. Call 'fit' with appropriate arguments before using this estimator."
     ]
    },
    {
     "data": {
      "text/plain": [
       "<Figure size 1152x864 with 0 Axes>"
      ]
     },
     "metadata": {},
     "output_type": "display_data"
    }
   ],
   "source": [
    "# visualising the decision tree diagram\n",
    "\n",
    "from sklearn.tree import plot_tree\n",
    "\n",
    "import matplotlib.pyplot as plt\n",
    "fig = plt.figure(figsize=(16,12))\n",
    "a = plot_tree(dtree, feature_names=df_getdummy.columns, fontsize=12, filled=True, \n",
    "              class_names=['Not_Play', 'Play'])"
   ]
  },
  {
   "cell_type": "markdown",
   "metadata": {},
   "source": [
    "‘Humidity’ is lower or equal to 73.5, it is pretty sure that Arthur will come to train for marathon!\n",
    " \n",
    "In order to improve the model performance (Hyperparameters Optimization), you should adjust the hyperparameters. For more details, please check out **[here](https://scikit-learn.org/stable/modules/generated/sklearn.tree.DecisionTreeClassifier.html)**."
   ]
  },
  {
   "cell_type": "markdown",
   "metadata": {},
   "source": [
    "The major disadvantage of Decision Trees is overfitting, especially when a tree is particularly deep. Fortunately, the more recent tree-based models including random forest and XGBoost are built on the top of decision tree algorithm and they generally perform better with a strong modeling technique and much more dynamic than a single decision tree. Therefore, understanding the concepts and algorithms behind Decision Trees thoroughly is super helpful to construct a good foundation of learning data science and machine learning."
   ]
  },
  {
   "cell_type": "markdown",
   "metadata": {},
   "source": [
    "### Summary: Now you should know:\n",
    "\n",
    "1. How to construct a Decision Tree \n",
    "2. How to calculate ‘Entropy’ and ‘Information Gain’ \n",
    "3. How to calculate ‘Gini Index’ and ‘Gini Gain’ \n",
    "4. What is the best split? \n",
    "5. How to plot a Decision Tree Diagram in Python"
   ]
  },
  {
   "cell_type": "code",
   "execution_count": null,
   "metadata": {},
   "outputs": [],
   "source": []
  }
 ],
 "metadata": {
  "hide_input": false,
  "kernelspec": {
   "display_name": "Python 3",
   "language": "python",
   "name": "python3"
  },
  "language_info": {
   "codemirror_mode": {
    "name": "ipython",
    "version": 3
   },
   "file_extension": ".py",
   "mimetype": "text/x-python",
   "name": "python",
   "nbconvert_exporter": "python",
   "pygments_lexer": "ipython3",
   "version": "3.8.8"
  },
  "toc": {
   "base_numbering": 1,
   "nav_menu": {},
   "number_sections": true,
   "sideBar": true,
   "skip_h1_title": false,
   "title_cell": "Table of Contents",
   "title_sidebar": "Contents",
   "toc_cell": false,
   "toc_position": {},
   "toc_section_display": true,
   "toc_window_display": false
  },
  "varInspector": {
   "cols": {
    "lenName": 16,
    "lenType": 16,
    "lenVar": 40
   },
   "kernels_config": {
    "python": {
     "delete_cmd_postfix": "",
     "delete_cmd_prefix": "del ",
     "library": "var_list.py",
     "varRefreshCmd": "print(var_dic_list())"
    },
    "r": {
     "delete_cmd_postfix": ") ",
     "delete_cmd_prefix": "rm(",
     "library": "var_list.r",
     "varRefreshCmd": "cat(var_dic_list()) "
    }
   },
   "types_to_exclude": [
    "module",
    "function",
    "builtin_function_or_method",
    "instance",
    "_Feature"
   ],
   "window_display": false
  }
 },
 "nbformat": 4,
 "nbformat_minor": 4
}
